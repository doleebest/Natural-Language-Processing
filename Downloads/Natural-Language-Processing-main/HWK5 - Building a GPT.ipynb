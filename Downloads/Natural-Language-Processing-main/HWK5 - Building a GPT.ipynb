{
 "cells": [
  {
   "cell_type": "markdown",
   "metadata": {
    "id": "3HqK14JLSStR"
   },
   "source": [
    "<center><h1>CSCI 4140: Natural Language Processing</h1></center>\n",
    "<center><h1>CSCI/DASC 6040: Computational Analysis of Natural Languages</h1></center>\n",
    "\n",
    "<center><h6>Spring 2024</h6></center>\n",
    "<center><h6>Homework 5 - Building a GPT</h6></center>\n",
    "<center><h6>Due Sunday, March 24, at 11:59 PM</h6></center>\n",
    "\n",
    "<center>\n",
    "    Adapted from the <a href=\"https://colab.research.google.com/drive/1JMLa53HDuA-i7ZBmqV7ZnA3c_fvtXnx-?usp=sharing\">companion notebook</a> to the <a href=\"https://karpathy.ai/zero-to-hero.html\">Zero To Hero</a> video on GPT.<br/>\n",
    "    <font color='red'>Do not redistribute without the instructor’s written permission.</font>\n",
    "</center>"
   ]
  },
  {
   "cell_type": "markdown",
   "metadata": {},
   "source": [
    "# 1. Select a dataset\n",
    "Andrej Karpathy used a subset of Shakespeare's works in his nanoGPT. **Pick a different author to train this GPT.** For example, [Project Gutenberg](https://www.gutenberg.org) is a library of over 70,000 free eBooks. To download [The Complete Works of William Shakespeare by William Shakespeare](https://www.gutenberg.org/ebooks/100) in text format, you can download the [Plain Text UTF-8](https://www.gutenberg.org/cache/epub/100/pg100.txt) file."
   ]
  },
  {
   "cell_type": "code",
   "execution_count": 1,
   "metadata": {
    "colab": {
     "base_uri": "https://localhost:8080/"
    },
    "id": "h5hjCcLDr2WC",
    "outputId": "ccc60f0c-fd78-4dbe-8598-0512d1036aad"
   },
   "outputs": [
    {
     "name": "stdout",
     "output_type": "stream",
     "text": [
      "  % Total    % Received % Xferd  Average Speed   Time    Time     Time  Current\n",
      "                                 Dload  Upload   Total   Spent    Left  Speed\n",
      "100  754k  100  754k    0     0  3282k      0 --:--:-- --:--:-- --:--:-- 3294k\n"
     ]
    }
   ],
   "source": [
    "# We always start with a dataset to train on. Let's download the tiny shakespeare dataset\n",
    "# !wget https://raw.githubusercontent.com/karpathy/char-rnn/master/data/tinyshakespeare/input.txt\n",
    "# !curl -O https://raw.githubusercontent.com/karpathy/char-rnn/master/data/tinyshakespeare/input.txt # modified command a bit for mac os\n",
    "!curl -O https://www.gutenberg.org/cache/epub/1342/pg1342.txt\n",
    "\n",
    "# Replace \"https://raw.githubusercontent.com/karpathy/char-rnn/master/data/tinyshakespeare/input.txt\" with the URL for your author\n",
    "# Save the downloaded file as \"input.txt\""
   ]
  },
  {
   "cell_type": "code",
   "execution_count": 3,
   "metadata": {
    "id": "O6medjfRsLD9"
   },
   "outputs": [],
   "source": [
    "# read it in to inspect it\n",
    "with open('input.txt', 'r', encoding='utf-8') as f:\n",
    "    text = f.read()"
   ]
  },
  {
   "cell_type": "markdown",
   "metadata": {},
   "source": [
    "## Get the length of this dataset (in characters)"
   ]
  },
  {
   "cell_type": "code",
   "execution_count": 4,
   "metadata": {
    "colab": {
     "base_uri": "https://localhost:8080/"
    },
    "id": "6xWI_VyAsN8F",
    "outputId": "ed819dd0-72e5-40a6-d2ed-928ff73bfda6"
   },
   "outputs": [
    {
     "name": "stdout",
     "output_type": "stream",
     "text": [
      "length of dataset in characters:  748152\n"
     ]
    }
   ],
   "source": [
    "print(\"length of dataset in characters: \", len(text))"
   ]
  },
  {
   "cell_type": "code",
   "execution_count": 5,
   "metadata": {
    "colab": {
     "base_uri": "https://localhost:8080/"
    },
    "id": "2c5V0FvqseE0",
    "outputId": "25ca7adc-b8c0-42d1-b08c-e0863c5c314e"
   },
   "outputs": [
    {
     "name": "stdout",
     "output_type": "stream",
     "text": [
      "The Project Gutenberg eBook of Pride and Prejudice\n",
      "    \n",
      "This ebook is for the use of anyone anywhere in the United States and\n",
      "most other parts of the world at no cost and with almost no restrictions\n",
      "whatsoever. You may copy it, give it away or re-use it under the terms\n",
      "of the Project Gutenberg License included with this ebook or online\n",
      "at www.gutenberg.org. If you are not located in the United States,\n",
      "you will have to check the laws of the country where you are located\n",
      "before using this eBook.\n",
      "\n",
      "Title: Pride and Prejudice\n",
      "\n",
      "\n",
      "Author: Jane Austen\n",
      "\n",
      "Release date: June 1, 1998 [eBook #1342]\n",
      "                Most recently updated: April 14, 2023\n",
      "\n",
      "Language: English\n",
      "\n",
      "Credits: Chuck Greif and the Online Distributed Proofreading Team at http://www.pgdp.net (This file was produced from images available at The Internet Archive)\n",
      "\n",
      "\n",
      "*** START OF THE PROJECT GUTENBERG EBOOK PRIDE AND PREJUDICE ***\n",
      "\n",
      "\n",
      "\n",
      "\n",
      "\n",
      "                            [Illustration:\n",
      "\n",
      "                             GEORGE ALLEN\n",
      "                \n"
     ]
    }
   ],
   "source": [
    "# let's look at the first 1000 characters\n",
    "print(text[:1000])"
   ]
  },
  {
   "cell_type": "markdown",
   "metadata": {},
   "source": [
    "## Get the vocabulary for this dataset, and its length"
   ]
  },
  {
   "cell_type": "code",
   "execution_count": 6,
   "metadata": {
    "colab": {
     "base_uri": "https://localhost:8080/"
    },
    "id": "0e-Rbyr8sfM8",
    "outputId": "f34e94a9-5b44-4cf3-885b-986731929109"
   },
   "outputs": [
    {
     "name": "stdout",
     "output_type": "stream",
     "text": [
      "\n",
      " !#$%&()*,-./0123456789:;?ABCDEFGHIJKLMNOPQRSTUVWXYZ[]^_abcdefghijklmnopqrstuvwxyz{}·àâéêœ—‘’“”•™﻿\n",
      "99\n"
     ]
    }
   ],
   "source": [
    "# here are all the unique characters that occur in this text\n",
    "chars = sorted(list(set(text))) # set() : 중복 제거\n",
    "vocab_size = len(chars)\n",
    "print(''.join(chars)) # ''을 중간에 넣어서 tuple 요소들을 결합하기\n",
    "print(vocab_size)"
   ]
  },
  {
   "cell_type": "markdown",
   "metadata": {},
   "source": [
    "## Create the encoder (string -> list of integers) and decoder (list of integers -> string)"
   ]
  },
  {
   "cell_type": "code",
   "execution_count": 7,
   "metadata": {
    "colab": {
     "base_uri": "https://localhost:8080/"
    },
    "id": "Yw1LKNCgwjj1",
    "outputId": "86fcc21c-2cf7-40d9-cd7b-b5a253da4459"
   },
   "outputs": [
    {
     "name": "stdout",
     "output_type": "stream",
     "text": [
      "[64, 65, 65, 1, 76, 64, 61, 74, 61]\n",
      "hii there\n"
     ]
    }
   ],
   "source": [
    "# create a mapping from characters to integers\n",
    "stoi = { ch:i for i,ch in enumerate(chars) }\n",
    "itos = { i:ch for i,ch in enumerate(chars) }\n",
    "encode = lambda s: [stoi[c] for c in s] # encoder: take a string, output a list of integers\n",
    "decode = lambda l: ''.join([itos[i] for i in l]) # decoder: take a list of integers, output a string\n",
    "\n",
    "print(encode(\"hii there\"))\n",
    "print(decode(encode(\"hii there\")))"
   ]
  },
  {
   "cell_type": "markdown",
   "metadata": {},
   "source": [
    "## Load encoded data into a tensor"
   ]
  },
  {
   "cell_type": "code",
   "execution_count": 8,
   "metadata": {
    "colab": {
     "base_uri": "https://localhost:8080/"
    },
    "id": "YJb0OXPwzvqg",
    "outputId": "db7297cc-36a9-4fae-e941-e7bb9e0e91d1"
   },
   "outputs": [
    {
     "name": "stdout",
     "output_type": "stream",
     "text": [
      "torch.Size([748152]) torch.int64\n",
      "tensor([98, 46, 64, 61,  1, 42, 74, 71, 66, 61, 59, 76,  1, 33, 77, 76, 61, 70,\n",
      "        58, 61, 74, 63,  1, 61, 28, 71, 71, 67,  1, 71, 62,  1, 42, 74, 65, 60,\n",
      "        61,  1, 57, 70, 60,  1, 42, 74, 61, 66, 77, 60, 65, 59, 61,  0,  1,  1,\n",
      "         1,  1,  0, 46, 64, 65, 75,  1, 61, 58, 71, 71, 67,  1, 65, 75,  1, 62,\n",
      "        71, 74,  1, 76, 64, 61,  1, 77, 75, 61,  1, 71, 62,  1, 57, 70, 81, 71,\n",
      "        70, 61,  1, 57, 70, 81, 79, 64, 61, 74, 61,  1, 65, 70,  1, 76, 64, 61,\n",
      "         1, 47, 70, 65, 76, 61, 60,  1, 45, 76, 57, 76, 61, 75,  1, 57, 70, 60,\n",
      "         0, 69, 71, 75, 76,  1, 71, 76, 64, 61, 74,  1, 72, 57, 74, 76, 75,  1,\n",
      "        71, 62,  1, 76, 64, 61,  1, 79, 71, 74, 68, 60,  1, 57, 76,  1, 70, 71,\n",
      "         1, 59, 71, 75, 76,  1, 57, 70, 60,  1, 79, 65, 76, 64,  1, 57, 68, 69,\n",
      "        71, 75, 76,  1, 70, 71,  1, 74, 61, 75, 76, 74, 65, 59, 76, 65, 71, 70,\n",
      "        75,  0, 79, 64, 57, 76, 75, 71, 61, 78, 61, 74, 12,  1, 51, 71, 77,  1,\n",
      "        69, 57, 81,  1, 59, 71, 72, 81,  1, 65, 76, 10,  1, 63, 65, 78, 61,  1,\n",
      "        65, 76,  1, 57, 79, 57, 81,  1, 71, 74,  1, 74, 61, 11, 77, 75, 61,  1,\n",
      "        65, 76,  1, 77, 70, 60, 61, 74,  1, 76, 64, 61,  1, 76, 61, 74, 69, 75,\n",
      "         0, 71, 62,  1, 76, 64, 61,  1, 42, 74, 71, 66, 61, 59, 76,  1, 33, 77,\n",
      "        76, 61, 70, 58, 61, 74, 63,  1, 38, 65, 59, 61, 70, 75, 61,  1, 65, 70,\n",
      "        59, 68, 77, 60, 61, 60,  1, 79, 65, 76, 64,  1, 76, 64, 65, 75,  1, 61,\n",
      "        58, 71, 71, 67,  1, 71, 74,  1, 71, 70, 68, 65, 70, 61,  0, 57, 76,  1,\n",
      "        79, 79, 79, 12, 63, 77, 76, 61, 70, 58, 61, 74, 63, 12, 71, 74, 63, 12,\n",
      "         1, 35, 62,  1, 81, 71, 77,  1, 57, 74, 61,  1, 70, 71, 76,  1, 68, 71,\n",
      "        59, 57, 76, 61, 60,  1, 65, 70,  1, 76, 64, 61,  1, 47, 70, 65, 76, 61,\n",
      "        60,  1, 45, 76, 57, 76, 61, 75, 10,  0, 81, 71, 77,  1, 79, 65, 68, 68,\n",
      "         1, 64, 57, 78, 61,  1, 76, 71,  1, 59, 64, 61, 59, 67,  1, 76, 64, 61,\n",
      "         1, 68, 57, 79, 75,  1, 71, 62,  1, 76, 64, 61,  1, 59, 71, 77, 70, 76,\n",
      "        74, 81,  1, 79, 64, 61, 74, 61,  1, 81, 71, 77,  1, 57, 74, 61,  1, 68,\n",
      "        71, 59, 57, 76, 61, 60,  0, 58, 61, 62, 71, 74, 61,  1, 77, 75, 65, 70,\n",
      "        63,  1, 76, 64, 65, 75,  1, 61, 28, 71, 71, 67, 12,  0,  0, 46, 65, 76,\n",
      "        68, 61, 24,  1, 42, 74, 65, 60, 61,  1, 57, 70, 60,  1, 42, 74, 61, 66,\n",
      "        77, 60, 65, 59, 61,  0,  0,  0, 27, 77, 76, 64, 71, 74, 24,  1, 36, 57,\n",
      "        70, 61,  1, 27, 77, 75, 76, 61, 70,  0,  0, 44, 61, 68, 61, 57, 75, 61,\n",
      "         1, 60, 57, 76, 61, 24,  1, 36, 77, 70, 61,  1, 15, 10,  1, 15, 23, 23,\n",
      "        22,  1, 53, 61, 28, 71, 71, 67,  1,  3, 15, 17, 18, 16, 54,  0,  1,  1,\n",
      "         1,  1,  1,  1,  1,  1,  1,  1,  1,  1,  1,  1,  1,  1, 39, 71, 75, 76,\n",
      "         1, 74, 61, 59, 61, 70, 76, 68, 81,  1, 77, 72, 60, 57, 76, 61, 60, 24,\n",
      "         1, 27, 72, 74, 65, 68,  1, 15, 18, 10,  1, 16, 14, 16, 17,  0,  0, 38,\n",
      "        57, 70, 63, 77, 57, 63, 61, 24,  1, 31, 70, 63, 68, 65, 75, 64,  0,  0,\n",
      "        29, 74, 61, 60, 65, 76, 75, 24,  1, 29, 64, 77, 59, 67,  1, 33, 74, 61,\n",
      "        65, 62,  1, 57, 70, 60,  1, 76, 64, 61,  1, 41, 70, 68, 65, 70, 61,  1,\n",
      "        30, 65, 75, 76, 74, 65, 58, 77, 76, 61, 60,  1, 42, 74, 71, 71, 62, 74,\n",
      "        61, 57, 60, 65, 70, 63,  1, 46, 61, 57, 69,  1, 57, 76,  1, 64, 76, 76,\n",
      "        72, 24, 13, 13, 79, 79, 79, 12, 72, 63, 60, 72, 12, 70, 61, 76,  1,  7,\n",
      "        46, 64, 65, 75,  1, 62, 65, 68, 61,  1, 79, 57, 75,  1, 72, 74, 71, 60,\n",
      "        77, 59, 61, 60,  1, 62, 74, 71, 69,  1, 65, 69, 57, 63, 61, 75,  1, 57,\n",
      "        78, 57, 65, 68, 57, 58, 68, 61,  1, 57, 76,  1, 46, 64, 61,  1, 35, 70,\n",
      "        76, 61, 74, 70, 61, 76,  1, 27, 74, 59, 64, 65, 78, 61,  8,  0,  0,  0,\n",
      "         9,  9,  9,  1, 45, 46, 27, 44, 46,  1, 41, 32,  1, 46, 34, 31,  1, 42,\n",
      "        44, 41, 36, 31, 29, 46,  1, 33, 47, 46, 31, 40, 28, 31, 44, 33,  1, 31,\n",
      "        28, 41, 41, 37,  1, 42, 44, 35, 30, 31,  1, 27, 40, 30,  1, 42, 44, 31,\n",
      "        36, 47, 30, 35, 29, 31,  1,  9,  9,  9,  0,  0,  0,  0,  0,  0,  1,  1,\n",
      "         1,  1,  1,  1,  1,  1,  1,  1,  1,  1,  1,  1,  1,  1,  1,  1,  1,  1,\n",
      "         1,  1,  1,  1,  1,  1,  1,  1, 53, 35, 68, 68, 77, 75, 76, 74, 57, 76,\n",
      "        65, 71, 70, 24,  0,  0,  1,  1,  1,  1,  1,  1,  1,  1,  1,  1,  1,  1,\n",
      "         1,  1,  1,  1,  1,  1,  1,  1,  1,  1,  1,  1,  1,  1,  1,  1,  1, 33,\n",
      "        31, 41, 44, 33, 31,  1, 27, 38, 38, 31, 40,  0,  1,  1,  1,  1,  1,  1,\n",
      "         1,  1,  1,  1,  1,  1,  1,  1,  1,  1])\n"
     ]
    }
   ],
   "source": [
    "# let's now encode the entire text dataset and store it into a torch.Tensor\n",
    "import torch # we use PyTorch: https://pytorch.org\n",
    "data = torch.tensor(encode(text), dtype=torch.long) #tensor : multi-dimensional array\n",
    "print(data.shape, data.dtype)\n",
    "print(data[:1000]) # the 1000 characters we looked at earier will to the GPT look like this"
   ]
  },
  {
   "cell_type": "markdown",
   "metadata": {},
   "source": [
    "## Split the data into training and validation sets"
   ]
  },
  {
   "cell_type": "code",
   "execution_count": 9,
   "metadata": {
    "id": "f_WIXqxz0lU5"
   },
   "outputs": [],
   "source": [
    "# Let's now split up the data into train and validation sets\n",
    "n = int(0.9*len(data)) # first 90% will be train, rest val\n",
    "train_data = data[:n]\n",
    "val_data = data[n:]"
   ]
  },
  {
   "cell_type": "code",
   "execution_count": 10,
   "metadata": {
    "colab": {
     "base_uri": "https://localhost:8080/"
    },
    "id": "TD5Bj8Y6IAD4",
    "outputId": "bf23c586-1d33-4af1-b63d-ce6f90b0a528"
   },
   "outputs": [
    {
     "data": {
      "text/plain": [
       "tensor([98, 46, 64, 61,  1, 42, 74, 71, 66])"
      ]
     },
     "execution_count": 10,
     "metadata": {},
     "output_type": "execute_result"
    }
   ],
   "source": [
    "block_size = 8\n",
    "train_data[:block_size+1]"
   ]
  },
  {
   "cell_type": "code",
   "execution_count": 11,
   "metadata": {
    "colab": {
     "base_uri": "https://localhost:8080/"
    },
    "id": "9HXDe8vGJCEn",
    "outputId": "588663aa-1de5-4ef7-aba0-4a96fe828353"
   },
   "outputs": [
    {
     "name": "stdout",
     "output_type": "stream",
     "text": [
      "when input is tensor([98]) the target: 46\n",
      "when input is tensor([98, 46]) the target: 64\n",
      "when input is tensor([98, 46, 64]) the target: 61\n",
      "when input is tensor([98, 46, 64, 61]) the target: 1\n",
      "when input is tensor([98, 46, 64, 61,  1]) the target: 42\n",
      "when input is tensor([98, 46, 64, 61,  1, 42]) the target: 74\n",
      "when input is tensor([98, 46, 64, 61,  1, 42, 74]) the target: 71\n",
      "when input is tensor([98, 46, 64, 61,  1, 42, 74, 71]) the target: 66\n"
     ]
    }
   ],
   "source": [
    "# 시퀀스 데이터의 패턴을 학습하고, 주어진 이전 시퀀스 부분으로 다음 위치의 값을 예측\n",
    "x = train_data[:block_size]\n",
    "y = train_data[1:block_size+1]\n",
    "for t in range(block_size):\n",
    "    context = x[:t+1\n",
    "    target = y[t]\n",
    "    print(f\"when input is {context} the target: {target}\")"
   ]
  },
  {
   "cell_type": "code",
   "execution_count": 13,
   "metadata": {
    "colab": {
     "base_uri": "https://localhost:8080/"
    },
    "id": "Q3k1Czf7LuA9",
    "outputId": "4ea8e8a0-443c-49bb-b3bf-ba36e1712999"
   },
   "outputs": [
    {
     "name": "stdout",
     "output_type": "stream",
     "text": [
      "inputs:\n",
      "torch.Size([4, 8])\n",
      "tensor([[75, 71,  0, 69, 57, 76, 61, 74],\n",
      "        [62, 61, 68, 65, 59, 65, 76, 81],\n",
      "        [ 1, 58, 61,  0, 75, 57, 62, 61],\n",
      "        [61,  1, 69, 61, 74, 61, 75, 76]])\n",
      "targets:\n",
      "torch.Size([4, 8])\n",
      "tensor([[71,  0, 69, 57, 76, 61, 74, 65],\n",
      "        [61, 68, 65, 59, 65, 76, 81,  2],\n",
      "        [58, 61,  0, 75, 57, 62, 61,  1],\n",
      "        [ 1, 69, 61, 74, 61, 75, 76,  0]])\n",
      "----\n",
      "when input is [75] the target: 71\n",
      "when input is [75, 71] the target: 0\n",
      "when input is [75, 71, 0] the target: 69\n",
      "when input is [75, 71, 0, 69] the target: 57\n",
      "when input is [75, 71, 0, 69, 57] the target: 76\n",
      "when input is [75, 71, 0, 69, 57, 76] the target: 61\n",
      "when input is [75, 71, 0, 69, 57, 76, 61] the target: 74\n",
      "when input is [75, 71, 0, 69, 57, 76, 61, 74] the target: 65\n",
      "when input is [62] the target: 61\n",
      "when input is [62, 61] the target: 68\n",
      "when input is [62, 61, 68] the target: 65\n",
      "when input is [62, 61, 68, 65] the target: 59\n",
      "when input is [62, 61, 68, 65, 59] the target: 65\n",
      "when input is [62, 61, 68, 65, 59, 65] the target: 76\n",
      "when input is [62, 61, 68, 65, 59, 65, 76] the target: 81\n",
      "when input is [62, 61, 68, 65, 59, 65, 76, 81] the target: 2\n",
      "when input is [1] the target: 58\n",
      "when input is [1, 58] the target: 61\n",
      "when input is [1, 58, 61] the target: 0\n",
      "when input is [1, 58, 61, 0] the target: 75\n",
      "when input is [1, 58, 61, 0, 75] the target: 57\n",
      "when input is [1, 58, 61, 0, 75, 57] the target: 62\n",
      "when input is [1, 58, 61, 0, 75, 57, 62] the target: 61\n",
      "when input is [1, 58, 61, 0, 75, 57, 62, 61] the target: 1\n",
      "when input is [61] the target: 1\n",
      "when input is [61, 1] the target: 69\n",
      "when input is [61, 1, 69] the target: 61\n",
      "when input is [61, 1, 69, 61] the target: 74\n",
      "when input is [61, 1, 69, 61, 74] the target: 61\n",
      "when input is [61, 1, 69, 61, 74, 61] the target: 75\n",
      "when input is [61, 1, 69, 61, 74, 61, 75] the target: 76\n",
      "when input is [61, 1, 69, 61, 74, 61, 75, 76] the target: 0\n"
     ]
    }
   ],
   "source": [
    "# prepare dataset before training model\n",
    "torch.manual_seed(1337)\n",
    "batch_size = 4 # how many independent sequences will we process in parallel?\n",
    "block_size = 8 # what is the maximum context length for predictions?\n",
    "\n",
    "def get_batch(split):\n",
    "    # generate a small batch of data of inputs x and targets y\n",
    "    data = train_data if split == 'train' else val_data # if split is 'train' : bring batch from train dataset, if its 'val' : bring batch from val dataset\n",
    "    ix = torch.randint(len(data) - block_size, (batch_size,)) # generate random index\n",
    "    x = torch.stack([data[i:i+block_size] for i in ix])\n",
    "    y = torch.stack([data[i+1:i+block_size+1] for i in ix])\n",
    "    return x, y\n",
    "\n",
    "xb, yb = get_batch('train')\n",
    "print('inputs:')\n",
    "print(xb.shape)\n",
    "print(xb)\n",
    "print('targets:')\n",
    "print(yb.shape)\n",
    "print(yb)\n",
    "\n",
    "print('----')\n",
    "\n",
    "for b in range(batch_size): # batch dimension\n",
    "    for t in range(block_size): # time dimension\n",
    "        context = xb[b, :t+1]\n",
    "        target = yb[b,t]\n",
    "        print(f\"when input is {context.tolist()} the target: {target}\")"
   ]
  },
  {
   "cell_type": "code",
   "execution_count": 14,
   "metadata": {
    "colab": {
     "base_uri": "https://localhost:8080/"
    },
    "id": "qpyyAeIzQjlO",
    "outputId": "a650f8dc-da81-400b-bc59-0a595487fdb9"
   },
   "outputs": [
    {
     "name": "stdout",
     "output_type": "stream",
     "text": [
      "tensor([[75, 71,  0, 69, 57, 76, 61, 74],\n",
      "        [62, 61, 68, 65, 59, 65, 76, 81],\n",
      "        [ 1, 58, 61,  0, 75, 57, 62, 61],\n",
      "        [61,  1, 69, 61, 74, 61, 75, 76]])\n"
     ]
    }
   ],
   "source": [
    "print(xb) # our input to the transformer"
   ]
  },
  {
   "cell_type": "markdown",
   "metadata": {},
   "source": [
    "# 2. Bigram language model"
   ]
  },
  {
   "cell_type": "code",
   "execution_count": 15,
   "metadata": {
    "colab": {
     "base_uri": "https://localhost:8080/"
    },
    "id": "nql_1ER53oCf",
    "outputId": "5de90b1b-4603-428a-f571-fe4bd3c45436"
   },
   "outputs": [
    {
     "name": "stdout",
     "output_type": "stream",
     "text": [
      "torch.Size([32, 99])\n",
      "tensor(5.0308, grad_fn=<NllLossBackward0>)\n",
      "\n",
      "éILoyéY}(Q[]CJdFK?TPyMBd}MJ)à\n",
      "êf&I•paâhm%KQ/{I﻿ ê;K_;CZA#à{;)e]lURP’5^Slkf)(—VXBM“%M· }âDh$:6gg‘uR&I\n"
     ]
    }
   ],
   "source": [
    "import torch\n",
    "import torch.nn as nn # neural network\n",
    "from torch.nn import functional as F\n",
    "torch.manual_seed(1337)\n",
    "\n",
    "class BigramLanguageModel(nn.Module):\n",
    "\n",
    "    def __init__(self, vocab_size):\n",
    "        super().__init__()\n",
    "        # each token directly reads off the logits for the next token from a lookup table\n",
    "        self.token_embedding_table = nn.Embedding(vocab_size, vocab_size) # 임베딩 테이블(Embedding Table)은 특정 범주형 데이터(예: 단어, 문자, 카테고리 등)를 고차원의 실수 벡터로 매핑하는 데 사용되는 파라미터화된 행렬\n",
    "\n",
    "    def forward(self, idx, targets=None):\n",
    "\n",
    "        # idx and targets are both (B,T) tensor of integers\n",
    "        logits = self.token_embedding_table(idx) # (B,T,C)\n",
    "\n",
    "        if targets is None:\n",
    "            loss = None\n",
    "        else:\n",
    "            B, T, C = logits.shape\n",
    "            logits = logits.view(B*T, C)\n",
    "            targets = targets.view(B*T)\n",
    "            loss = F.cross_entropy(logits, targets)\n",
    "\n",
    "        return logits, loss\n",
    "\n",
    "    def generate(self, idx, max_new_tokens):\n",
    "        # idx is (B, T) array of indices in the current context\n",
    "        for _ in range(max_new_tokens):\n",
    "            # get the predictions\n",
    "            logits, loss = self(idx)\n",
    "            # focus only on the last time step\n",
    "            logits = logits[:, -1, :] # becomes (B, C)\n",
    "            # apply softmax to get probabilities\n",
    "            probs = F.softmax(logits, dim=-1) # (B, C)\n",
    "            # sample from the distribution\n",
    "            idx_next = torch.multinomial(probs, num_samples=1) # (B, 1)\n",
    "            # append sampled index to the running sequence\n",
    "            idx = torch.cat((idx, idx_next), dim=1) # (B, T+1)\n",
    "        return idx\n",
    "\n",
    "m = BigramLanguageModel(vocab_size)\n",
    "logits, loss = m(xb, yb)\n",
    "print(logits.shape)\n",
    "print(loss)\n",
    "\n",
    "print(decode(m.generate(idx = torch.zeros((1, 1), dtype=torch.long), max_new_tokens=100)[0].tolist()))"
   ]
  },
  {
   "cell_type": "markdown",
   "metadata": {},
   "source": [
    "## Use the AdamW optimizer"
   ]
  },
  {
   "cell_type": "code",
   "execution_count": 16,
   "metadata": {
    "id": "eTyJ8qAaDdiF"
   },
   "outputs": [],
   "source": [
    "# create a PyTorch optimizer\n",
    "optimizer = torch.optim.AdamW(m.parameters(), lr=1e-3)"
   ]
  },
  {
   "cell_type": "markdown",
   "metadata": {},
   "source": [
    "## Questions\n",
    "1. (10 points) How many steps did you train the model for?\n",
    "2. (15 points) How does the value of the loss function change with the number of steps? Provide a few examples, such as, after 100 steps the loss was 4.656, and after 1,000 steps the loss was 4.231."
   ]
  },
  {
   "cell_type": "code",
   "execution_count": 17,
   "metadata": {
    "colab": {
     "base_uri": "https://localhost:8080/"
    },
    "id": "Hs4kI8YdEkQj",
    "outputId": "42ded55c-2983-4d91-c528-675b2edfa849"
   },
   "outputs": [
    {
     "name": "stdout",
     "output_type": "stream",
     "text": [
      "5.070724010467529\n"
     ]
    }
   ],
   "source": [
    "batch_size = 32\n",
    "for steps in range(100): # increase number of steps for good results...\n",
    "\n",
    "    # sample a batch of data\n",
    "    xb, yb = get_batch('train')\n",
    "\n",
    "    # evaluate the loss\n",
    "    logits, loss = m(xb, yb)\n",
    "    optimizer.zero_grad(set_to_none=True)\n",
    "    loss.backward()\n",
    "    optimizer.step()\n",
    "\n",
    "print(loss.item())"
   ]
  },
  {
   "cell_type": "code",
   "execution_count": 18,
   "metadata": {
    "colab": {
     "base_uri": "https://localhost:8080/"
    },
    "id": "EcVIDWAZEtjN",
    "outputId": "0ad6f9d2-ad58-4498-a5f8-6f31407bb18b"
   },
   "outputs": [
    {
     "name": "stdout",
     "output_type": "stream",
     "text": [
      "\n",
      "Ka&8pWà•&IAUnqN2s-uAO5!,d}JNN*IAu;﻿ R:*j[qpKS[r:tâ{l52(\n",
      "fqR7&QfBUfqD SH·EpMW-4Hq$e_﻿qQ/x*kZA”n*b#y‘âr3EàCe*Dnk;e93q&zA﻿a“”.T?ee$\n",
      "d}!vmâ:Bd3PS#al#l’XêZlR)kb/:\n",
      "Nb 7wGê(4A™wi264uW(.$jxeHrmAd2%/Iœ™??nokm-XBémœ!0﻿*#a-]iJ{d8jx/f)W-J:’w!aVu“w‘A(RA”?)HIAâ]/ 0_{’ptV[M,)jqRxQ}7Oâ)tME·ry ,$c·dJ40/‘ILH[H??*jqpFCm,b5Z ^tW‘_)gf7(33Lê7kà$49âHZH™?“5!bdOrRcym,HhTK﻿Qz?nDkt$;FxâSa3”™GfqX.·;{’Xâ}a-&6s1p]*pBd4/Sq3*{8l/i^ovmq$Hsz3kt#_—ZâPdb/Ys·\n",
      "(r SGA2œ/zWJx/z*﻿L$64R%,}N}(4no5I}2UYTAui‘uf?&2Y1‘uN\n",
      "ma]’?RXBKT’#-J.J0F\n",
      "[\n"
     ]
    }
   ],
   "source": [
    "print(decode(m.generate(idx = torch.zeros((1, 1), dtype=torch.long), max_new_tokens=500)[0].tolist()))"
   ]
  },
  {
   "cell_type": "markdown",
   "metadata": {
    "id": "XinV8nmAnmKN"
   },
   "source": [
    "# Optional: The mathematical trick in self-attention"
   ]
  },
  {
   "cell_type": "code",
   "execution_count": 19,
   "metadata": {
    "colab": {
     "base_uri": "https://localhost:8080/"
    },
    "id": "tukiH-NbRBhA",
    "outputId": "d981f6d4-ac08-4ec2-8284-82f5fa1e0815"
   },
   "outputs": [
    {
     "name": "stdout",
     "output_type": "stream",
     "text": [
      "a=\n",
      "tensor([[1.0000, 0.0000, 0.0000],\n",
      "        [0.5000, 0.5000, 0.0000],\n",
      "        [0.3333, 0.3333, 0.3333]])\n",
      "--\n",
      "b=\n",
      "tensor([[2., 7.],\n",
      "        [6., 4.],\n",
      "        [6., 5.]])\n",
      "--\n",
      "c=\n",
      "tensor([[2.0000, 7.0000],\n",
      "        [4.0000, 5.5000],\n",
      "        [4.6667, 5.3333]])\n"
     ]
    }
   ],
   "source": [
    "# toy example illustrating how matrix multiplication can be used for a \"weighted aggregation\"\n",
    "torch.manual_seed(42)\n",
    "a = torch.tril(torch.ones(3, 3))\n",
    "a = a / torch.sum(a, 1, keepdim=True)\n",
    "b = torch.randint(0,10,(3,2)).float()\n",
    "c = a @ b\n",
    "print('a=')\n",
    "print(a)\n",
    "print('--')\n",
    "print('b=')\n",
    "print(b)\n",
    "print('--')\n",
    "print('c=')\n",
    "print(c)"
   ]
  },
  {
   "cell_type": "code",
   "execution_count": 20,
   "metadata": {
    "colab": {
     "base_uri": "https://localhost:8080/"
    },
    "id": "Hs_E24uRE8kr",
    "outputId": "8bf3ff5f-565e-48b8-de8e-7272706c8e12"
   },
   "outputs": [
    {
     "data": {
      "text/plain": [
       "torch.Size([4, 8, 2])"
      ]
     },
     "execution_count": 20,
     "metadata": {},
     "output_type": "execute_result"
    }
   ],
   "source": [
    "# consider the following toy example:\n",
    "\n",
    "torch.manual_seed(1337)\n",
    "B,T,C = 4,8,2 # batch, time, channels\n",
    "x = torch.randn(B,T,C)\n",
    "x.shape"
   ]
  },
  {
   "cell_type": "code",
   "execution_count": 21,
   "metadata": {
    "id": "86NuXX0fn7ps"
   },
   "outputs": [],
   "source": [
    "# We want x[b,t] = mean_{i<=t} x[b,i]\n",
    "xbow = torch.zeros((B,T,C))\n",
    "for b in range(B):\n",
    "    for t in range(T):\n",
    "        xprev = x[b,:t+1] # (t,C)\n",
    "        xbow[b,t] = torch.mean(xprev, 0)\n"
   ]
  },
  {
   "cell_type": "code",
   "execution_count": 22,
   "metadata": {
    "colab": {
     "base_uri": "https://localhost:8080/"
    },
    "id": "yhdOAd6-wXkZ",
    "outputId": "eaf6ab61-dff1-4bb7-e623-47f692bad5f9"
   },
   "outputs": [
    {
     "data": {
      "text/plain": [
       "True"
      ]
     },
     "execution_count": 22,
     "metadata": {},
     "output_type": "execute_result"
    }
   ],
   "source": [
    "# version 2: using matrix multiply for a weighted aggregation\n",
    "wei = torch.tril(torch.ones(T, T))\n",
    "wei = wei / wei.sum(1, keepdim=True)\n",
    "xbow2 = wei @ x # (B, T, T) @ (B, T, C) ----> (B, T, C)\n",
    "torch.allclose(xbow, xbow2)"
   ]
  },
  {
   "cell_type": "code",
   "execution_count": 23,
   "metadata": {
    "colab": {
     "base_uri": "https://localhost:8080/"
    },
    "id": "wOURrfG-ysoL",
    "outputId": "080b500d-8110-4602-fcef-7d6f2ebfc6bc"
   },
   "outputs": [
    {
     "data": {
      "text/plain": [
       "True"
      ]
     },
     "execution_count": 23,
     "metadata": {},
     "output_type": "execute_result"
    }
   ],
   "source": [
    "# version 3: use Softmax\n",
    "tril = torch.tril(torch.ones(T, T))\n",
    "wei = torch.zeros((T,T))\n",
    "wei = wei.masked_fill(tril == 0, float('-inf'))\n",
    "wei = F.softmax(wei, dim=-1)\n",
    "xbow3 = wei @ x\n",
    "torch.allclose(xbow, xbow3)\n"
   ]
  },
  {
   "cell_type": "code",
   "execution_count": 24,
   "metadata": {
    "colab": {
     "base_uri": "https://localhost:8080/"
    },
    "id": "EDarxEWIRMKq",
    "outputId": "07b587dd-a91c-4bb0-d7f1-e247cd5dacb5"
   },
   "outputs": [
    {
     "data": {
      "text/plain": [
       "torch.Size([4, 8, 16])"
      ]
     },
     "execution_count": 24,
     "metadata": {},
     "output_type": "execute_result"
    }
   ],
   "source": [
    "# version 4: self-attention!\n",
    "torch.manual_seed(1337)\n",
    "B,T,C = 4,8,32 # batch, time, channels\n",
    "x = torch.randn(B,T,C)\n",
    "\n",
    "# let's see a single Head perform self-attention\n",
    "head_size = 16\n",
    "key = nn.Linear(C, head_size, bias=False)\n",
    "query = nn.Linear(C, head_size, bias=False)\n",
    "value = nn.Linear(C, head_size, bias=False)\n",
    "k = key(x)   # (B, T, 16)\n",
    "q = query(x) # (B, T, 16)\n",
    "wei =  q @ k.transpose(-2, -1) # (B, T, 16) @ (B, 16, T) ---> (B, T, T)\n",
    "\n",
    "tril = torch.tril(torch.ones(T, T))\n",
    "#wei = torch.zeros((T,T))\n",
    "wei = wei.masked_fill(tril == 0, float('-inf'))\n",
    "wei = F.softmax(wei, dim=-1)\n",
    "\n",
    "v = value(x)\n",
    "out = wei @ v\n",
    "#out = wei @ x\n",
    "\n",
    "out.shape"
   ]
  },
  {
   "cell_type": "code",
   "execution_count": 25,
   "metadata": {
    "colab": {
     "base_uri": "https://localhost:8080/"
    },
    "id": "vT1hdtzXCjgL",
    "outputId": "6d2c569b-7922-451f-9934-0fc564678d17"
   },
   "outputs": [
    {
     "data": {
      "text/plain": [
       "tensor([[1.0000, 0.0000, 0.0000, 0.0000, 0.0000, 0.0000, 0.0000, 0.0000],\n",
       "        [0.1574, 0.8426, 0.0000, 0.0000, 0.0000, 0.0000, 0.0000, 0.0000],\n",
       "        [0.2088, 0.1646, 0.6266, 0.0000, 0.0000, 0.0000, 0.0000, 0.0000],\n",
       "        [0.5792, 0.1187, 0.1889, 0.1131, 0.0000, 0.0000, 0.0000, 0.0000],\n",
       "        [0.0294, 0.1052, 0.0469, 0.0276, 0.7909, 0.0000, 0.0000, 0.0000],\n",
       "        [0.0176, 0.2689, 0.0215, 0.0089, 0.6812, 0.0019, 0.0000, 0.0000],\n",
       "        [0.1691, 0.4066, 0.0438, 0.0416, 0.1048, 0.2012, 0.0329, 0.0000],\n",
       "        [0.0210, 0.0843, 0.0555, 0.2297, 0.0573, 0.0709, 0.2423, 0.2391]],\n",
       "       grad_fn=<SelectBackward0>)"
      ]
     },
     "execution_count": 25,
     "metadata": {},
     "output_type": "execute_result"
    }
   ],
   "source": [
    "wei[0]"
   ]
  },
  {
   "cell_type": "markdown",
   "metadata": {
    "id": "M5CvobiQ0pLr"
   },
   "source": [
    "Notes:\n",
    "- Attention is a **communication mechanism**. Can be seen as nodes in a directed graph looking at each other and aggregating information with a weighted sum from all nodes that point to them, with data-dependent weights.\n",
    "- There is no notion of space. Attention simply acts over a set of vectors. This is why we need to positionally encode tokens.\n",
    "- Each example across batch dimension is of course processed completely independently and never \"talk\" to each other\n",
    "- In an \"encoder\" attention block just delete the single line that does masking with `tril`, allowing all tokens to communicate. This block here is called a \"decoder\" attention block because it has triangular masking, and is usually used in autoregressive settings, like language modeling.\n",
    "- \"self-attention\" just means that the keys and values are produced from the same source as queries. In \"cross-attention\", the queries still get produced from x, but the keys and values come from some other, external source (e.g. an encoder module)\n",
    "- \"Scaled\" attention additional divides `wei` by 1/sqrt(head_size). This makes it so when input Q,K are unit variance, wei will be unit variance too and Softmax will stay diffuse and not saturate too much. Illustration below"
   ]
  },
  {
   "cell_type": "code",
   "execution_count": 26,
   "metadata": {
    "id": "4SNbLq5z3oBw"
   },
   "outputs": [],
   "source": [
    "k = torch.randn(B,T,head_size)\n",
    "q = torch.randn(B,T,head_size)\n",
    "wei = q @ k.transpose(-2, -1) * head_size**-0.5"
   ]
  },
  {
   "cell_type": "code",
   "execution_count": 27,
   "metadata": {
    "colab": {
     "base_uri": "https://localhost:8080/"
    },
    "id": "Nl6I9n9IRTSo",
    "outputId": "0c5b9cd0-af8a-4564-fbad-41d844e54822"
   },
   "outputs": [
    {
     "data": {
      "text/plain": [
       "tensor(1.0449)"
      ]
     },
     "execution_count": 27,
     "metadata": {},
     "output_type": "execute_result"
    }
   ],
   "source": [
    "k.var()"
   ]
  },
  {
   "cell_type": "code",
   "execution_count": 28,
   "metadata": {
    "colab": {
     "base_uri": "https://localhost:8080/"
    },
    "id": "T1tQx7oeRvtc",
    "outputId": "3541ca1a-7447-4ef7-835e-81824aebc1b5"
   },
   "outputs": [
    {
     "data": {
      "text/plain": [
       "tensor(1.0700)"
      ]
     },
     "execution_count": 28,
     "metadata": {},
     "output_type": "execute_result"
    }
   ],
   "source": [
    "q.var()"
   ]
  },
  {
   "cell_type": "code",
   "execution_count": 29,
   "metadata": {
    "colab": {
     "base_uri": "https://localhost:8080/"
    },
    "id": "MLb_odHU3iKM",
    "outputId": "a687a222-5a2c-4cdb-c1bf-17cd05b45b69"
   },
   "outputs": [
    {
     "data": {
      "text/plain": [
       "tensor(1.0918)"
      ]
     },
     "execution_count": 29,
     "metadata": {},
     "output_type": "execute_result"
    }
   ],
   "source": [
    "wei.var()"
   ]
  },
  {
   "cell_type": "code",
   "execution_count": 30,
   "metadata": {
    "colab": {
     "base_uri": "https://localhost:8080/"
    },
    "id": "JB82yzt44REI",
    "outputId": "f07da2f1-10bb-4a7a-bcaa-578587977d00"
   },
   "outputs": [
    {
     "data": {
      "text/plain": [
       "tensor([0.1925, 0.1426, 0.2351, 0.1426, 0.2872])"
      ]
     },
     "execution_count": 30,
     "metadata": {},
     "output_type": "execute_result"
    }
   ],
   "source": [
    "torch.softmax(torch.tensor([0.1, -0.2, 0.3, -0.2, 0.5]), dim=-1)"
   ]
  },
  {
   "cell_type": "code",
   "execution_count": 31,
   "metadata": {
    "colab": {
     "base_uri": "https://localhost:8080/"
    },
    "id": "Mpt8569BB9_f",
    "outputId": "5d8b910a-6192-44ba-ebb2-497d88e0b629"
   },
   "outputs": [
    {
     "data": {
      "text/plain": [
       "tensor([0.0326, 0.0030, 0.1615, 0.0030, 0.8000])"
      ]
     },
     "execution_count": 31,
     "metadata": {},
     "output_type": "execute_result"
    }
   ],
   "source": [
    "torch.softmax(torch.tensor([0.1, -0.2, 0.3, -0.2, 0.5])*8, dim=-1) # gets too peaky, converges to one-hot"
   ]
  },
  {
   "cell_type": "code",
   "execution_count": 32,
   "metadata": {
    "colab": {
     "base_uri": "https://localhost:8080/"
    },
    "id": "2Num7sX9CKOH",
    "outputId": "929ceb78-a639-41d6-aac7-12997b5c93f0"
   },
   "outputs": [
    {
     "data": {
      "text/plain": [
       "torch.Size([32, 100])"
      ]
     },
     "execution_count": 32,
     "metadata": {},
     "output_type": "execute_result"
    }
   ],
   "source": [
    "class LayerNorm1d: # (used to be BatchNorm1d)\n",
    "\n",
    "  def __init__(self, dim, eps=1e-5, momentum=0.1):\n",
    "    self.eps = eps\n",
    "    self.gamma = torch.ones(dim)\n",
    "    self.beta = torch.zeros(dim)\n",
    "\n",
    "  def __call__(self, x):\n",
    "    # calculate the forward pass\n",
    "    xmean = x.mean(1, keepdim=True) # batch mean\n",
    "    xvar = x.var(1, keepdim=True) # batch variance\n",
    "    xhat = (x - xmean) / torch.sqrt(xvar + self.eps) # normalize to unit variance\n",
    "    self.out = self.gamma * xhat + self.beta\n",
    "    return self.out\n",
    "\n",
    "  def parameters(self):\n",
    "    return [self.gamma, self.beta]\n",
    "\n",
    "torch.manual_seed(1337)\n",
    "module = LayerNorm1d(100)\n",
    "x = torch.randn(32, 100) # batch size 32 of 100-dimensional vectors\n",
    "x = module(x)\n",
    "x.shape"
   ]
  },
  {
   "cell_type": "code",
   "execution_count": 33,
   "metadata": {
    "colab": {
     "base_uri": "https://localhost:8080/"
    },
    "id": "633T2cmnW1uk",
    "outputId": "7720fa58-0478-4e8a-86a7-502d4cce9443"
   },
   "outputs": [
    {
     "data": {
      "text/plain": [
       "(tensor(0.1469), tensor(0.8803))"
      ]
     },
     "execution_count": 33,
     "metadata": {},
     "output_type": "execute_result"
    }
   ],
   "source": [
    "x[:,0].mean(), x[:,0].std() # mean,std of one feature across all batch inputs"
   ]
  },
  {
   "cell_type": "code",
   "execution_count": 34,
   "metadata": {
    "colab": {
     "base_uri": "https://localhost:8080/"
    },
    "id": "LN9cK9BoXCYb",
    "outputId": "6368ece0-600e-417d-8a91-7c1e5d750ba8"
   },
   "outputs": [
    {
     "data": {
      "text/plain": [
       "(tensor(-3.5763e-09), tensor(1.0000))"
      ]
     },
     "execution_count": 34,
     "metadata": {},
     "output_type": "execute_result"
    }
   ],
   "source": [
    "x[0,:].mean(), x[0,:].std() # mean,std of a single input from the batch, of its features"
   ]
  },
  {
   "cell_type": "code",
   "execution_count": 34,
   "metadata": {
    "id": "dRJH6wM_XFfU"
   },
   "outputs": [],
   "source": [
    "# French to English translation example:\n",
    "\n",
    "# <--------- ENCODE ------------------><--------------- DECODE ----------------->\n",
    "# les réseaux de neurones sont géniaux! <START> neural networks are awesome!<END>\n",
    "\n"
   ]
  },
  {
   "cell_type": "markdown",
   "metadata": {
    "id": "ZcvKeBXoZFOY"
   },
   "source": [
    "# 3. Encoder language model\n",
    "To run this section of the notebook, you need a GPU (you can run it on CPU but it will take a much longer). You can run it in [Google Colab](https://colab.research.google.com/), and from the menu select **Runtime/Change runtime type** and select **T4 GPU** for **Hardware accelerator**. Then click **Save**."
   ]
  },
  {
   "cell_type": "code",
   "execution_count": 35,
   "metadata": {
    "colab": {
     "base_uri": "https://localhost:8080/"
    },
    "id": "hoelkOrFY8bN",
    "outputId": "961304cd-e379-40d4-dd56-8de0b91d2861"
   },
   "outputs": [
    {
     "name": "stdout",
     "output_type": "stream",
     "text": [
      "0.214115 M parameters\n",
      "step 0: train loss 4.7163, val loss 4.7117\n",
      "step 100: train loss 2.6681, val loss 2.7825\n",
      "step 200: train loss 2.5308, val loss 2.6790\n",
      "step 300: train loss 2.4319, val loss 2.5777\n",
      "step 400: train loss 2.3347, val loss 2.5029\n",
      "step 500: train loss 2.2436, val loss 2.3976\n",
      "step 600: train loss 2.1634, val loss 2.3382\n",
      "step 700: train loss 2.0903, val loss 2.2652\n",
      "step 800: train loss 2.0369, val loss 2.2204\n",
      "step 900: train loss 1.9897, val loss 2.1820\n",
      "step 1000: train loss 1.9370, val loss 2.1100\n",
      "step 1100: train loss 1.8914, val loss 2.0912\n",
      "step 1200: train loss 1.8637, val loss 2.0660\n",
      "step 1300: train loss 1.8380, val loss 2.0371\n",
      "step 1400: train loss 1.8096, val loss 1.9977\n",
      "step 1500: train loss 1.7882, val loss 1.9951\n",
      "step 1600: train loss 1.7583, val loss 1.9715\n",
      "step 1700: train loss 1.7302, val loss 1.9376\n",
      "step 1800: train loss 1.7091, val loss 1.9394\n",
      "step 1900: train loss 1.6967, val loss 1.9051\n",
      "step 2000: train loss 1.6779, val loss 1.8984\n",
      "step 2100: train loss 1.6708, val loss 1.9047\n",
      "step 2200: train loss 1.6523, val loss 1.8877\n",
      "step 2300: train loss 1.6260, val loss 1.8627\n",
      "step 2400: train loss 1.6280, val loss 1.8563\n",
      "step 2500: train loss 1.6163, val loss 1.8508\n",
      "step 2600: train loss 1.6137, val loss 1.8364\n",
      "step 2700: train loss 1.5976, val loss 1.8005\n",
      "step 2800: train loss 1.5867, val loss 1.8026\n",
      "step 2900: train loss 1.5763, val loss 1.7990\n",
      "step 3000: train loss 1.5666, val loss 1.8056\n",
      "step 3100: train loss 1.5645, val loss 1.8043\n",
      "step 3200: train loss 1.5568, val loss 1.8091\n",
      "step 3300: train loss 1.5423, val loss 1.7641\n",
      "step 3400: train loss 1.5280, val loss 1.7589\n",
      "step 3500: train loss 1.5346, val loss 1.7794\n",
      "step 3600: train loss 1.5142, val loss 1.7530\n",
      "step 3700: train loss 1.5182, val loss 1.7440\n",
      "step 3800: train loss 1.5085, val loss 1.7723\n",
      "step 3900: train loss 1.4945, val loss 1.7468\n",
      "step 4000: train loss 1.4795, val loss 1.7631\n",
      "step 4100: train loss 1.4887, val loss 1.7709\n",
      "step 4200: train loss 1.4913, val loss 1.7401\n",
      "step 4300: train loss 1.4951, val loss 1.7372\n",
      "step 4400: train loss 1.4750, val loss 1.7475\n",
      "step 4500: train loss 1.4768, val loss 1.7207\n",
      "step 4600: train loss 1.4661, val loss 1.7287\n",
      "step 4700: train loss 1.4724, val loss 1.7218\n",
      "step 4800: train loss 1.4630, val loss 1.7220\n",
      "step 4900: train loss 1.4567, val loss 1.7045\n",
      "step 4999: train loss 1.4601, val loss 1.7376\n",
      "\n",
      "\n",
      "[Illusto nextrated without the inconveniato enguimour thoughth of his add, was draughthing at his in exercivents that you singen her other and shirs what yir mysome You_\n",
      "     crose youther, it pleasant own near are a laughter,\n",
      "and admiractious poor in        bok him the happiness wise out his amperhap his orrioved entirel Mr. Colliners well Ly Coletters, they was\n",
      "on opport her many solicth’s sorn it doubt all\n",
      "she objecting on ut one plosine, he disguy\n",
      "she was opy all the samether of little you wours the destreato: contaying\n",
      "in that he more you chare summent a in the vilue happy. With_ hopever so-me\n",
      "then of cherver.”\n",
      "\n",
      "“Bing there wars young parison.”\n",
      "\n",
      "“Lydia’s Prong by you at sayon his hoper ghers her his\n",
      "over and ewayed\n",
      "Mary uncied of their his\n",
      "offerent of bring like that he thore of yousing liken_ on that it, I am day he and _her_ trat her one with a\n",
      "marry-vain are it come. It\n",
      "what past half to hall yetermined you though it elation; but her conk would con a\n",
      "determaint--for sooner oble! Pery. The herselves was such of his citicuuenced his spice of ine, lost everything present the sproduf. Darcy were was pusciture more what sucquens appy of the others intressed was servelve again, it is accovedily Bregare very sters, who losse happy you\n",
      "read by eks, termition keeps\n",
      "which Elizabeth day. She\n",
      "well never into the stair tal; those had someething excectediner;\n",
      "cervain or the? Mrs. Benner longh her till she saw my spaying brighth arriage was soon witch so were whose what plays, Mr. Bennet\n",
      "walk. Mrs. Bennet reound ceot.”\n",
      "\n",
      "“Derpicanation to his spriety of\n",
      "which with Jane is Wickham,” replead y, the and when\n",
      "who was found the, jury a swert airs of e myself\n",
      "ediate sue.”\n",
      "\n",
      "“I shore quite you \n",
      "Darcy, and\n",
      "he had a degitions, had by on disnaring that han as one you. How sense lovery. Bingley so mistray with engaged by him, “and is with expect to word the. Kitty there is tall very gate an with, who have gave with hopeven spirits, who talk perhaps a lookes and everyon, and nood on ov\n"
     ]
    }
   ],
   "source": [
    "import torch\n",
    "import torch.nn as nn\n",
    "from torch.nn import functional as F\n",
    "\n",
    "# hyperparameters\n",
    "batch_size = 16 # how many independent sequences will we process in parallel?\n",
    "block_size = 32 # what is the maximum context length for predictions?\n",
    "max_iters = 5000\n",
    "eval_interval = 100\n",
    "learning_rate = 1e-3\n",
    "device = 'cuda' if torch.cuda.is_available() else 'cpu'\n",
    "eval_iters = 200\n",
    "n_embd = 64\n",
    "n_head = 4\n",
    "n_layer = 4\n",
    "dropout = 0.0\n",
    "# ------------\n",
    "\n",
    "torch.manual_seed(1337)\n",
    "\n",
    "# wget https://raw.githubusercontent.com/karpathy/char-rnn/master/data/tinyshakespeare/input.txt\n",
    "# You will have to change the path to the 'input.txt' file (e.g., /content/input.txt)\n",
    "with open('input.txt', 'r', encoding='utf-8') as f:\n",
    "    text = f.read()\n",
    "\n",
    "# here are all the unique characters that occur in this text\n",
    "chars = sorted(list(set(text)))\n",
    "vocab_size = len(chars)\n",
    "# create a mapping from characters to integers\n",
    "stoi = { ch:i for i,ch in enumerate(chars) }\n",
    "itos = { i:ch for i,ch in enumerate(chars) }\n",
    "encode = lambda s: [stoi[c] for c in s] # encoder: take a string, output a list of integers\n",
    "decode = lambda l: ''.join([itos[i] for i in l]) # decoder: take a list of integers, output a string\n",
    "\n",
    "# Train and test splits\n",
    "data = torch.tensor(encode(text), dtype=torch.long)\n",
    "n = int(0.9*len(data)) # first 90% will be train, rest val\n",
    "train_data = data[:n]\n",
    "val_data = data[n:]\n",
    "\n",
    "# data loading\n",
    "def get_batch(split):\n",
    "    # generate a small batch of data of inputs x and targets y\n",
    "    data = train_data if split == 'train' else val_data\n",
    "    ix = torch.randint(len(data) - block_size, (batch_size,))\n",
    "    x = torch.stack([data[i:i+block_size] for i in ix])\n",
    "    y = torch.stack([data[i+1:i+block_size+1] for i in ix])\n",
    "    x, y = x.to(device), y.to(device)\n",
    "    return x, y\n",
    "\n",
    "@torch.no_grad()\n",
    "def estimate_loss():\n",
    "    out = {}\n",
    "    model.eval()\n",
    "    for split in ['train', 'val']:\n",
    "        losses = torch.zeros(eval_iters)\n",
    "        for k in range(eval_iters):\n",
    "            X, Y = get_batch(split)\n",
    "            logits, loss = model(X, Y)\n",
    "            losses[k] = loss.item()\n",
    "        out[split] = losses.mean()\n",
    "    model.train()\n",
    "    return out\n",
    "\n",
    "class Head(nn.Module):\n",
    "    \"\"\" one head of self-attention \"\"\"\n",
    "\n",
    "    def __init__(self, head_size):\n",
    "        super().__init__()\n",
    "        self.key = nn.Linear(n_embd, head_size, bias=False)\n",
    "        self.query = nn.Linear(n_embd, head_size, bias=False)\n",
    "        self.value = nn.Linear(n_embd, head_size, bias=False)\n",
    "        self.register_buffer('tril', torch.tril(torch.ones(block_size, block_size)))\n",
    "\n",
    "        self.dropout = nn.Dropout(dropout)\n",
    "\n",
    "    def forward(self, x):\n",
    "        B,T,C = x.shape\n",
    "        k = self.key(x)   # (B,T,C)\n",
    "        q = self.query(x) # (B,T,C)\n",
    "        # compute attention scores (\"affinities\")\n",
    "        wei = q @ k.transpose(-2,-1) * C**-0.5 # (B, T, C) @ (B, C, T) -> (B, T, T)\n",
    "        wei = wei.masked_fill(self.tril[:T, :T] == 0, float('-inf')) # (B, T, T)\n",
    "        wei = F.softmax(wei, dim=-1) # (B, T, T)\n",
    "        wei = self.dropout(wei)\n",
    "        # perform the weighted aggregation of the values\n",
    "        v = self.value(x) # (B,T,C)\n",
    "        out = wei @ v # (B, T, T) @ (B, T, C) -> (B, T, C)\n",
    "        return out\n",
    "\n",
    "class MultiHeadAttention(nn.Module):\n",
    "    \"\"\" multiple heads of self-attention in parallel \"\"\"\n",
    "\n",
    "    def __init__(self, num_heads, head_size):\n",
    "        super().__init__()\n",
    "        self.heads = nn.ModuleList([Head(head_size) for _ in range(num_heads)])\n",
    "        self.proj = nn.Linear(n_embd, n_embd)\n",
    "        self.dropout = nn.Dropout(dropout)\n",
    "\n",
    "    def forward(self, x):\n",
    "        out = torch.cat([h(x) for h in self.heads], dim=-1)\n",
    "        out = self.dropout(self.proj(out))\n",
    "        return out\n",
    "\n",
    "class FeedFoward(nn.Module):\n",
    "    \"\"\" a simple linear layer followed by a non-linearity \"\"\"\n",
    "\n",
    "    def __init__(self, n_embd):\n",
    "        super().__init__()\n",
    "        self.net = nn.Sequential(\n",
    "            nn.Linear(n_embd, 4 * n_embd),\n",
    "            nn.ReLU(),\n",
    "            nn.Linear(4 * n_embd, n_embd),\n",
    "            nn.Dropout(dropout),\n",
    "        )\n",
    "\n",
    "    def forward(self, x):\n",
    "        return self.net(x)\n",
    "\n",
    "class Block(nn.Module):\n",
    "    \"\"\" Transformer block: communication followed by computation \"\"\"\n",
    "\n",
    "    def __init__(self, n_embd, n_head):\n",
    "        # n_embd: embedding dimension, n_head: the number of heads we'd like\n",
    "        super().__init__()\n",
    "        head_size = n_embd // n_head\n",
    "        self.sa = MultiHeadAttention(n_head, head_size)\n",
    "        self.ffwd = FeedFoward(n_embd)\n",
    "        self.ln1 = nn.LayerNorm(n_embd)\n",
    "        self.ln2 = nn.LayerNorm(n_embd)\n",
    "\n",
    "    def forward(self, x):\n",
    "        x = x + self.sa(self.ln1(x))\n",
    "        x = x + self.ffwd(self.ln2(x))\n",
    "        return x\n",
    "\n",
    "# super simple bigram model\n",
    "class BigramLanguageModel(nn.Module):\n",
    "\n",
    "    def __init__(self):\n",
    "        super().__init__()\n",
    "        # each token directly reads off the logits for the next token from a lookup table\n",
    "        self.token_embedding_table = nn.Embedding(vocab_size, n_embd)\n",
    "        self.position_embedding_table = nn.Embedding(block_size, n_embd)\n",
    "        self.blocks = nn.Sequential(*[Block(n_embd, n_head=n_head) for _ in range(n_layer)])\n",
    "        self.ln_f = nn.LayerNorm(n_embd) # final layer norm\n",
    "        self.lm_head = nn.Linear(n_embd, vocab_size)\n",
    "\n",
    "    def forward(self, idx, targets=None):\n",
    "        B, T = idx.shape\n",
    "\n",
    "        # idx and targets are both (B,T) tensor of integers\n",
    "        tok_emb = self.token_embedding_table(idx) # (B,T,C)\n",
    "        pos_emb = self.position_embedding_table(torch.arange(T, device=device)) # (T,C)\n",
    "        x = tok_emb + pos_emb # (B,T,C)\n",
    "        x = self.blocks(x) # (B,T,C)\n",
    "        x = self.ln_f(x) # (B,T,C)\n",
    "        logits = self.lm_head(x) # (B,T,vocab_size)\n",
    "\n",
    "        if targets is None:\n",
    "            loss = None\n",
    "        else:\n",
    "            B, T, C = logits.shape\n",
    "            logits = logits.view(B*T, C)\n",
    "            targets = targets.view(B*T)\n",
    "            loss = F.cross_entropy(logits, targets)\n",
    "\n",
    "        return logits, loss\n",
    "\n",
    "    def generate(self, idx, max_new_tokens):\n",
    "        # idx is (B, T) array of indices in the current context\n",
    "        for _ in range(max_new_tokens):\n",
    "            # crop idx to the last block_size tokens\n",
    "            idx_cond = idx[:, -block_size:]\n",
    "            # get the predictions\n",
    "            logits, loss = self(idx_cond)\n",
    "            # focus only on the last time step\n",
    "            logits = logits[:, -1, :] # becomes (B, C)\n",
    "            # apply softmax to get probabilities\n",
    "            probs = F.softmax(logits, dim=-1) # (B, C)\n",
    "            # sample from the distribution\n",
    "            idx_next = torch.multinomial(probs, num_samples=1) # (B, 1)\n",
    "            # append sampled index to the running sequence\n",
    "            idx = torch.cat((idx, idx_next), dim=1) # (B, T+1)\n",
    "        return idx\n",
    "\n",
    "model = BigramLanguageModel()\n",
    "m = model.to(device)\n",
    "# print the number of parameters in the model\n",
    "print(sum(p.numel() for p in m.parameters())/1e6, 'M parameters')\n",
    "\n",
    "# create a PyTorch optimizer\n",
    "optimizer = torch.optim.AdamW(model.parameters(), lr=learning_rate)\n",
    "\n",
    "for iter in range(max_iters):\n",
    "\n",
    "    # every once in a while evaluate the loss on train and val sets\n",
    "    if iter % eval_interval == 0 or iter == max_iters - 1:\n",
    "        losses = estimate_loss()\n",
    "        print(f\"step {iter}: train loss {losses['train']:.4f}, val loss {losses['val']:.4f}\")\n",
    "\n",
    "    # sample a batch of data\n",
    "    xb, yb = get_batch('train')\n",
    "\n",
    "    # evaluate the loss\n",
    "    logits, loss = model(xb, yb)\n",
    "    optimizer.zero_grad(set_to_none=True)\n",
    "    loss.backward()\n",
    "    optimizer.step()\n",
    "\n",
    "# generate from the model\n",
    "context = torch.zeros((1, 1), dtype=torch.long, device=device)\n",
    "print(decode(m.generate(context, max_new_tokens=2000)[0].tolist()))"
   ]
  },
  {
   "cell_type": "markdown",
   "metadata": {},
   "source": [
    "## Questions (25 points each)\n",
    "1. How many attention heads are used in this encoder?\n",
    "2. How many layers are in each feed-forward network? List these layers.\n",
    "3. How many layers are in the transformer block? List these layers."
   ]
  },
  {
   "cell_type": "markdown",
   "metadata": {},
   "source": [
    "# Extra credit (10 points)\n",
    "How does the **learning rate** affect the model (in terms of learning time, and accuracy)? Pick a different value for the learning rate and run the code to show this."
   ]
  }
 ],
 "metadata": {
  "colab": {
   "provenance": []
  },
  "kernelspec": {
   "display_name": "myenv",
   "language": "python",
   "name": "myenv"
  },
  "language_info": {
   "codemirror_mode": {
    "name": "ipython",
    "version": 3
   },
   "file_extension": ".py",
   "mimetype": "text/x-python",
   "name": "python",
   "nbconvert_exporter": "python",
   "pygments_lexer": "ipython3",
   "version": "3.11.5"
  }
 },
 "nbformat": 4,
 "nbformat_minor": 4
}
